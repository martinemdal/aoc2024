{
 "cells": [
  {
   "metadata": {},
   "cell_type": "markdown",
   "source": "<h3>Part 1</h3>",
   "id": "bf70c6d28cef5951"
  },
  {
   "cell_type": "code",
   "id": "initial_id",
   "metadata": {
    "collapsed": true,
    "ExecuteTime": {
     "end_time": "2024-12-08T15:34:42.336573Z",
     "start_time": "2024-12-08T15:34:42.047149Z"
    }
   },
   "source": "import pandas as pd",
   "outputs": [],
   "execution_count": 4
  },
  {
   "metadata": {
    "ExecuteTime": {
     "end_time": "2024-12-08T19:49:53.965477Z",
     "start_time": "2024-12-08T19:49:53.955035Z"
    }
   },
   "cell_type": "code",
   "source": [
    "df = pd.read_csv('resources/input_day2.txt', header=None)\n",
    "df"
   ],
   "id": "af11cb763d765156",
   "outputs": [
    {
     "data": {
      "text/plain": [
       "                           0\n",
       "0             10 11 13 16 15\n",
       "1          3 6 9 10 11 12 12\n",
       "2          43 46 49 52 54 58\n",
       "3       59 60 61 63 65 68 75\n",
       "4    60 62 63 65 63 66 69 71\n",
       "..                       ...\n",
       "995           25 28 31 32 35\n",
       "996        79 78 76 73 71 70\n",
       "997        64 65 68 71 73 74\n",
       "998           58 60 63 64 67\n",
       "999        33 35 36 37 39 41\n",
       "\n",
       "[1000 rows x 1 columns]"
      ],
      "text/html": [
       "<div>\n",
       "<style scoped>\n",
       "    .dataframe tbody tr th:only-of-type {\n",
       "        vertical-align: middle;\n",
       "    }\n",
       "\n",
       "    .dataframe tbody tr th {\n",
       "        vertical-align: top;\n",
       "    }\n",
       "\n",
       "    .dataframe thead th {\n",
       "        text-align: right;\n",
       "    }\n",
       "</style>\n",
       "<table border=\"1\" class=\"dataframe\">\n",
       "  <thead>\n",
       "    <tr style=\"text-align: right;\">\n",
       "      <th></th>\n",
       "      <th>0</th>\n",
       "    </tr>\n",
       "  </thead>\n",
       "  <tbody>\n",
       "    <tr>\n",
       "      <th>0</th>\n",
       "      <td>10 11 13 16 15</td>\n",
       "    </tr>\n",
       "    <tr>\n",
       "      <th>1</th>\n",
       "      <td>3 6 9 10 11 12 12</td>\n",
       "    </tr>\n",
       "    <tr>\n",
       "      <th>2</th>\n",
       "      <td>43 46 49 52 54 58</td>\n",
       "    </tr>\n",
       "    <tr>\n",
       "      <th>3</th>\n",
       "      <td>59 60 61 63 65 68 75</td>\n",
       "    </tr>\n",
       "    <tr>\n",
       "      <th>4</th>\n",
       "      <td>60 62 63 65 63 66 69 71</td>\n",
       "    </tr>\n",
       "    <tr>\n",
       "      <th>...</th>\n",
       "      <td>...</td>\n",
       "    </tr>\n",
       "    <tr>\n",
       "      <th>995</th>\n",
       "      <td>25 28 31 32 35</td>\n",
       "    </tr>\n",
       "    <tr>\n",
       "      <th>996</th>\n",
       "      <td>79 78 76 73 71 70</td>\n",
       "    </tr>\n",
       "    <tr>\n",
       "      <th>997</th>\n",
       "      <td>64 65 68 71 73 74</td>\n",
       "    </tr>\n",
       "    <tr>\n",
       "      <th>998</th>\n",
       "      <td>58 60 63 64 67</td>\n",
       "    </tr>\n",
       "    <tr>\n",
       "      <th>999</th>\n",
       "      <td>33 35 36 37 39 41</td>\n",
       "    </tr>\n",
       "  </tbody>\n",
       "</table>\n",
       "<p>1000 rows × 1 columns</p>\n",
       "</div>"
      ]
     },
     "execution_count": 38,
     "metadata": {},
     "output_type": "execute_result"
    }
   ],
   "execution_count": 38
  },
  {
   "metadata": {
    "ExecuteTime": {
     "end_time": "2024-12-08T19:49:55.373247Z",
     "start_time": "2024-12-08T19:49:55.369748Z"
    }
   },
   "cell_type": "code",
   "source": [
    "def safe(row):\n",
    "    number_strings = [int(x) for x in row.split(' ')]\n",
    "    last_number = None\n",
    "    has_increased = False\n",
    "    has_decreased = False\n",
    "    for number in number_strings:\n",
    "        if last_number is None:\n",
    "            last_number = number\n",
    "            continue\n",
    "        if number > last_number:\n",
    "            has_increased = True\n",
    "        if number < last_number:\n",
    "            has_decreased = True\n",
    "        if 0 >= abs(last_number - number) or abs(last_number - number) >= 4:\n",
    "            return False\n",
    "        if has_decreased and has_increased:\n",
    "            return False\n",
    "        last_number = number\n",
    "    return True"
   ],
   "id": "710189f0d3cbc2c2",
   "outputs": [],
   "execution_count": 39
  },
  {
   "metadata": {
    "ExecuteTime": {
     "end_time": "2024-12-08T19:49:56.342652Z",
     "start_time": "2024-12-08T19:49:56.338756Z"
    }
   },
   "cell_type": "code",
   "source": [
    "# Answer part 1\n",
    "df[df[0].apply(safe)].shape[0]"
   ],
   "id": "9d466f0828df6b42",
   "outputs": [
    {
     "data": {
      "text/plain": [
       "213"
      ]
     },
     "execution_count": 40,
     "metadata": {},
     "output_type": "execute_result"
    }
   ],
   "execution_count": 40
  },
  {
   "metadata": {},
   "cell_type": "markdown",
   "source": "<h3>Part 2</h3>",
   "id": "9211b6d99e7d13ac"
  },
  {
   "metadata": {
    "ExecuteTime": {
     "end_time": "2024-12-08T19:50:39.048915Z",
     "start_time": "2024-12-08T19:50:39.046319Z"
    }
   },
   "cell_type": "code",
   "source": [
    "def safe(number_strings):\n",
    "    last_number = None\n",
    "    has_increased = False\n",
    "    has_decreased = False\n",
    "    for number in number_strings:\n",
    "        if last_number is None:\n",
    "            last_number = number\n",
    "            continue\n",
    "        if number > last_number:\n",
    "            has_increased = True\n",
    "        if number < last_number:\n",
    "            has_decreased = True\n",
    "        if 0 >= abs(last_number - number) or abs(last_number - number) >= 4:\n",
    "            return False\n",
    "        if has_decreased and has_increased:\n",
    "            return False\n",
    "        last_number = number\n",
    "    return True"
   ],
   "id": "5441d1dff34ad135",
   "outputs": [],
   "execution_count": 44
  },
  {
   "metadata": {
    "ExecuteTime": {
     "end_time": "2024-12-08T19:50:42.273170Z",
     "start_time": "2024-12-08T19:50:42.270251Z"
    }
   },
   "cell_type": "code",
   "source": [
    "def fault_tolerant(row):\n",
    "    number_strings = [int(x) for x in row.split(' ')]\n",
    "    if safe(number_strings):\n",
    "        return True\n",
    "    for i in range(0, len(number_strings)):\n",
    "        if safe(number_strings[0:i] + number_strings[i+1:len(number_strings)]):\n",
    "            return True\n",
    "    return False"
   ],
   "id": "1bd908f5aa292979",
   "outputs": [],
   "execution_count": 45
  },
  {
   "metadata": {
    "ExecuteTime": {
     "end_time": "2024-12-08T19:51:10.613325Z",
     "start_time": "2024-12-08T19:51:10.607332Z"
    }
   },
   "cell_type": "code",
   "source": [
    "# Answer part 2\n",
    "df[df[0].apply(fault_tolerant)].shape[0]"
   ],
   "id": "cbb0049d0851c3c",
   "outputs": [
    {
     "data": {
      "text/plain": [
       "285"
      ]
     },
     "execution_count": 49,
     "metadata": {},
     "output_type": "execute_result"
    }
   ],
   "execution_count": 49
  }
 ],
 "metadata": {
  "kernelspec": {
   "display_name": "Python 3",
   "language": "python",
   "name": "python3"
  },
  "language_info": {
   "codemirror_mode": {
    "name": "ipython",
    "version": 2
   },
   "file_extension": ".py",
   "mimetype": "text/x-python",
   "name": "python",
   "nbconvert_exporter": "python",
   "pygments_lexer": "ipython2",
   "version": "2.7.6"
  }
 },
 "nbformat": 4,
 "nbformat_minor": 5
}
