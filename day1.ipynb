{
 "cells": [
  {
   "metadata": {},
   "cell_type": "markdown",
   "source": "<h3>Part 1</h3>",
   "id": "bf70c6d28cef5951"
  },
  {
   "cell_type": "code",
   "id": "initial_id",
   "metadata": {
    "collapsed": true,
    "ExecuteTime": {
     "end_time": "2024-12-08T15:24:21.614910Z",
     "start_time": "2024-12-08T15:24:21.612405Z"
    }
   },
   "source": "import pandas as pd",
   "outputs": [],
   "execution_count": 58
  },
  {
   "metadata": {
    "ExecuteTime": {
     "end_time": "2024-12-08T15:24:22.155338Z",
     "start_time": "2024-12-08T15:24:22.148277Z"
    }
   },
   "cell_type": "code",
   "source": [
    "df = pd.read_csv('resources/input_day1.txt', delimiter='   ', header=None, engine='python', names=['left', 'right'])\n",
    "df"
   ],
   "id": "af11cb763d765156",
   "outputs": [
    {
     "data": {
      "text/plain": [
       "      left  right\n",
       "0    16435  48069\n",
       "1    29877  97906\n",
       "2    75256  47355\n",
       "3    25417  59861\n",
       "4    32479  25840\n",
       "..     ...    ...\n",
       "995  66871  37296\n",
       "996  33330  86365\n",
       "997  66278  96190\n",
       "998  18682  72272\n",
       "999  42394  36663\n",
       "\n",
       "[1000 rows x 2 columns]"
      ],
      "text/html": [
       "<div>\n",
       "<style scoped>\n",
       "    .dataframe tbody tr th:only-of-type {\n",
       "        vertical-align: middle;\n",
       "    }\n",
       "\n",
       "    .dataframe tbody tr th {\n",
       "        vertical-align: top;\n",
       "    }\n",
       "\n",
       "    .dataframe thead th {\n",
       "        text-align: right;\n",
       "    }\n",
       "</style>\n",
       "<table border=\"1\" class=\"dataframe\">\n",
       "  <thead>\n",
       "    <tr style=\"text-align: right;\">\n",
       "      <th></th>\n",
       "      <th>left</th>\n",
       "      <th>right</th>\n",
       "    </tr>\n",
       "  </thead>\n",
       "  <tbody>\n",
       "    <tr>\n",
       "      <th>0</th>\n",
       "      <td>16435</td>\n",
       "      <td>48069</td>\n",
       "    </tr>\n",
       "    <tr>\n",
       "      <th>1</th>\n",
       "      <td>29877</td>\n",
       "      <td>97906</td>\n",
       "    </tr>\n",
       "    <tr>\n",
       "      <th>2</th>\n",
       "      <td>75256</td>\n",
       "      <td>47355</td>\n",
       "    </tr>\n",
       "    <tr>\n",
       "      <th>3</th>\n",
       "      <td>25417</td>\n",
       "      <td>59861</td>\n",
       "    </tr>\n",
       "    <tr>\n",
       "      <th>4</th>\n",
       "      <td>32479</td>\n",
       "      <td>25840</td>\n",
       "    </tr>\n",
       "    <tr>\n",
       "      <th>...</th>\n",
       "      <td>...</td>\n",
       "      <td>...</td>\n",
       "    </tr>\n",
       "    <tr>\n",
       "      <th>995</th>\n",
       "      <td>66871</td>\n",
       "      <td>37296</td>\n",
       "    </tr>\n",
       "    <tr>\n",
       "      <th>996</th>\n",
       "      <td>33330</td>\n",
       "      <td>86365</td>\n",
       "    </tr>\n",
       "    <tr>\n",
       "      <th>997</th>\n",
       "      <td>66278</td>\n",
       "      <td>96190</td>\n",
       "    </tr>\n",
       "    <tr>\n",
       "      <th>998</th>\n",
       "      <td>18682</td>\n",
       "      <td>72272</td>\n",
       "    </tr>\n",
       "    <tr>\n",
       "      <th>999</th>\n",
       "      <td>42394</td>\n",
       "      <td>36663</td>\n",
       "    </tr>\n",
       "  </tbody>\n",
       "</table>\n",
       "<p>1000 rows × 2 columns</p>\n",
       "</div>"
      ]
     },
     "execution_count": 59,
     "metadata": {},
     "output_type": "execute_result"
    }
   ],
   "execution_count": 59
  },
  {
   "metadata": {
    "ExecuteTime": {
     "end_time": "2024-12-08T15:24:22.848578Z",
     "start_time": "2024-12-08T15:24:22.844768Z"
    }
   },
   "cell_type": "code",
   "source": "df.info()",
   "id": "1ab2b4ceeacfa42e",
   "outputs": [
    {
     "name": "stdout",
     "output_type": "stream",
     "text": [
      "<class 'pandas.core.frame.DataFrame'>\n",
      "RangeIndex: 1000 entries, 0 to 999\n",
      "Data columns (total 2 columns):\n",
      " #   Column  Non-Null Count  Dtype\n",
      "---  ------  --------------  -----\n",
      " 0   left    1000 non-null   int64\n",
      " 1   right   1000 non-null   int64\n",
      "dtypes: int64(2)\n",
      "memory usage: 15.8 KB\n"
     ]
    }
   ],
   "execution_count": 60
  },
  {
   "metadata": {
    "ExecuteTime": {
     "end_time": "2024-12-08T15:24:23.531420Z",
     "start_time": "2024-12-08T15:24:23.527993Z"
    }
   },
   "cell_type": "code",
   "source": [
    "# Answer part 1\n",
    "sum(abs(df['left'].sort_values().reset_index(drop=True) - df['right'].sort_values().reset_index(drop=True)))"
   ],
   "id": "9d466f0828df6b42",
   "outputs": [
    {
     "data": {
      "text/plain": [
       "1722302"
      ]
     },
     "execution_count": 61,
     "metadata": {},
     "output_type": "execute_result"
    }
   ],
   "execution_count": 61
  },
  {
   "metadata": {},
   "cell_type": "markdown",
   "source": "<h3>Part 2</h3>",
   "id": "9211b6d99e7d13ac"
  },
  {
   "metadata": {
    "ExecuteTime": {
     "end_time": "2024-12-08T15:33:42.035731Z",
     "start_time": "2024-12-08T15:33:42.033103Z"
    }
   },
   "cell_type": "code",
   "source": [
    "def count_occurrence(count_occurance_df):\n",
    "    return lambda left_number: left_number * count_occurance_df[count_occurance_df['right'] == left_number].shape[0]"
   ],
   "id": "124059d674fb501c",
   "outputs": [],
   "execution_count": 94
  },
  {
   "metadata": {
    "ExecuteTime": {
     "end_time": "2024-12-08T15:33:42.871322Z",
     "start_time": "2024-12-08T15:33:42.790172Z"
    }
   },
   "cell_type": "code",
   "source": [
    "# Answer part 2\n",
    "sum(df['left'].apply(count_occurrence(df)))"
   ],
   "id": "cbb0049d0851c3c",
   "outputs": [
    {
     "data": {
      "text/plain": [
       "20373490"
      ]
     },
     "execution_count": 95,
     "metadata": {},
     "output_type": "execute_result"
    }
   ],
   "execution_count": 95
  }
 ],
 "metadata": {
  "kernelspec": {
   "display_name": "Python 3",
   "language": "python",
   "name": "python3"
  },
  "language_info": {
   "codemirror_mode": {
    "name": "ipython",
    "version": 2
   },
   "file_extension": ".py",
   "mimetype": "text/x-python",
   "name": "python",
   "nbconvert_exporter": "python",
   "pygments_lexer": "ipython2",
   "version": "2.7.6"
  }
 },
 "nbformat": 4,
 "nbformat_minor": 5
}
